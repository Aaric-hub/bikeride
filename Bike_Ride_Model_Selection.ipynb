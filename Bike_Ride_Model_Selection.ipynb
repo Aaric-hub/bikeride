{
 "cells": [
  {
   "cell_type": "code",
   "execution_count": 1,
   "metadata": {},
   "outputs": [],
   "source": [
    "import pandas as pd\n",
    "import numpy as np\n",
    "from sklearn.tree import DecisionTreeClassifier\n",
    "from sklearn import tree\n",
    "from sklearn.model_selection import train_test_split, GridSearchCV\n",
    "from sklearn.metrics import accuracy_score, confusion_matrix, roc_auc_score, roc_curve\n",
    "from pandas_profiling import ProfileReport\n",
    "import sklearn\n",
    "import matplotlib.pyplot as plt\n",
    "from sklearn import tree\n",
    "%matplotlib inline"
   ]
  },
  {
   "cell_type": "code",
   "execution_count": 2,
   "metadata": {},
   "outputs": [],
   "source": [
    "data = pd.read_excel('Training Data Set.xlsx',skiprows=1)"
   ]
  },
  {
   "cell_type": "code",
   "execution_count": 3,
   "metadata": {},
   "outputs": [
    {
     "data": {
      "text/html": [
       "<div>\n",
       "<style scoped>\n",
       "    .dataframe tbody tr th:only-of-type {\n",
       "        vertical-align: middle;\n",
       "    }\n",
       "\n",
       "    .dataframe tbody tr th {\n",
       "        vertical-align: top;\n",
       "    }\n",
       "\n",
       "    .dataframe thead th {\n",
       "        text-align: right;\n",
       "    }\n",
       "</style>\n",
       "<table border=\"1\" class=\"dataframe\">\n",
       "  <thead>\n",
       "    <tr style=\"text-align: right;\">\n",
       "      <th></th>\n",
       "      <th>sl.no</th>\n",
       "      <th>Station</th>\n",
       "      <th>Date</th>\n",
       "      <th>Time</th>\n",
       "      <th>Sex</th>\n",
       "      <th>Age Group(14-50)</th>\n",
       "      <th>Week End</th>\n",
       "      <th>No of Passengers</th>\n",
       "      <th>No. of Bikes</th>\n",
       "    </tr>\n",
       "  </thead>\n",
       "  <tbody>\n",
       "    <tr>\n",
       "      <th>0</th>\n",
       "      <td>1</td>\n",
       "      <td>Kengeri</td>\n",
       "      <td>2022-05-03</td>\n",
       "      <td>6.00 -7.00 AM</td>\n",
       "      <td>Male</td>\n",
       "      <td>Yes</td>\n",
       "      <td>Yes</td>\n",
       "      <td>50</td>\n",
       "      <td>13</td>\n",
       "    </tr>\n",
       "    <tr>\n",
       "      <th>1</th>\n",
       "      <td>2</td>\n",
       "      <td>Kengeri</td>\n",
       "      <td>2022-05-03</td>\n",
       "      <td>6.00 -7.00 AM</td>\n",
       "      <td>Female</td>\n",
       "      <td>Yes</td>\n",
       "      <td>Yes</td>\n",
       "      <td>70</td>\n",
       "      <td>18</td>\n",
       "    </tr>\n",
       "    <tr>\n",
       "      <th>2</th>\n",
       "      <td>3</td>\n",
       "      <td>Kengeri</td>\n",
       "      <td>2022-05-03</td>\n",
       "      <td>6.00 -7.00 AM</td>\n",
       "      <td>Male</td>\n",
       "      <td>No</td>\n",
       "      <td>Yes</td>\n",
       "      <td>30</td>\n",
       "      <td>8</td>\n",
       "    </tr>\n",
       "    <tr>\n",
       "      <th>3</th>\n",
       "      <td>4</td>\n",
       "      <td>Kengeri</td>\n",
       "      <td>2022-05-03</td>\n",
       "      <td>6.00 -7.00 AM</td>\n",
       "      <td>Female</td>\n",
       "      <td>No</td>\n",
       "      <td>Yes</td>\n",
       "      <td>43</td>\n",
       "      <td>11</td>\n",
       "    </tr>\n",
       "    <tr>\n",
       "      <th>4</th>\n",
       "      <td>5</td>\n",
       "      <td>Puttenegere</td>\n",
       "      <td>2022-05-03</td>\n",
       "      <td>6.00 -7.00 AM</td>\n",
       "      <td>Male</td>\n",
       "      <td>Yes</td>\n",
       "      <td>Yes</td>\n",
       "      <td>45</td>\n",
       "      <td>12</td>\n",
       "    </tr>\n",
       "    <tr>\n",
       "      <th>...</th>\n",
       "      <td>...</td>\n",
       "      <td>...</td>\n",
       "      <td>...</td>\n",
       "      <td>...</td>\n",
       "      <td>...</td>\n",
       "      <td>...</td>\n",
       "      <td>...</td>\n",
       "      <td>...</td>\n",
       "      <td>...</td>\n",
       "    </tr>\n",
       "    <tr>\n",
       "      <th>403</th>\n",
       "      <td>404</td>\n",
       "      <td>Nayadahalli</td>\n",
       "      <td>2022-05-03</td>\n",
       "      <td>10.00 - 11.00 PM</td>\n",
       "      <td>Female</td>\n",
       "      <td>No</td>\n",
       "      <td>Yes</td>\n",
       "      <td>34</td>\n",
       "      <td>9</td>\n",
       "    </tr>\n",
       "    <tr>\n",
       "      <th>404</th>\n",
       "      <td>405</td>\n",
       "      <td>Mysore Road</td>\n",
       "      <td>2022-05-03</td>\n",
       "      <td>10.00 - 11.00 PM</td>\n",
       "      <td>Male</td>\n",
       "      <td>Yes</td>\n",
       "      <td>Yes</td>\n",
       "      <td>72</td>\n",
       "      <td>18</td>\n",
       "    </tr>\n",
       "    <tr>\n",
       "      <th>405</th>\n",
       "      <td>406</td>\n",
       "      <td>Mysore Road</td>\n",
       "      <td>2022-05-03</td>\n",
       "      <td>10.00 - 11.00 PM</td>\n",
       "      <td>Female</td>\n",
       "      <td>Yes</td>\n",
       "      <td>Yes</td>\n",
       "      <td>56</td>\n",
       "      <td>14</td>\n",
       "    </tr>\n",
       "    <tr>\n",
       "      <th>406</th>\n",
       "      <td>407</td>\n",
       "      <td>Mysore Road</td>\n",
       "      <td>2022-05-03</td>\n",
       "      <td>10.00 - 11.00 PM</td>\n",
       "      <td>Male</td>\n",
       "      <td>No</td>\n",
       "      <td>Yes</td>\n",
       "      <td>31</td>\n",
       "      <td>8</td>\n",
       "    </tr>\n",
       "    <tr>\n",
       "      <th>407</th>\n",
       "      <td>408</td>\n",
       "      <td>Mysore Road</td>\n",
       "      <td>2022-05-03</td>\n",
       "      <td>10.00 - 11.00 PM</td>\n",
       "      <td>Female</td>\n",
       "      <td>No</td>\n",
       "      <td>Yes</td>\n",
       "      <td>34</td>\n",
       "      <td>9</td>\n",
       "    </tr>\n",
       "  </tbody>\n",
       "</table>\n",
       "<p>408 rows × 9 columns</p>\n",
       "</div>"
      ],
      "text/plain": [
       "     sl.no      Station       Date              Time     Sex Age Group(14-50)  \\\n",
       "0        1      Kengeri 2022-05-03     6.00 -7.00 AM    Male              Yes   \n",
       "1        2      Kengeri 2022-05-03     6.00 -7.00 AM  Female              Yes   \n",
       "2        3      Kengeri 2022-05-03     6.00 -7.00 AM    Male               No   \n",
       "3        4      Kengeri 2022-05-03     6.00 -7.00 AM  Female               No   \n",
       "4        5  Puttenegere 2022-05-03     6.00 -7.00 AM    Male              Yes   \n",
       "..     ...          ...        ...               ...     ...              ...   \n",
       "403    404  Nayadahalli 2022-05-03  10.00 - 11.00 PM  Female               No   \n",
       "404    405  Mysore Road 2022-05-03  10.00 - 11.00 PM    Male              Yes   \n",
       "405    406  Mysore Road 2022-05-03  10.00 - 11.00 PM  Female              Yes   \n",
       "406    407  Mysore Road 2022-05-03  10.00 - 11.00 PM    Male               No   \n",
       "407    408  Mysore Road 2022-05-03  10.00 - 11.00 PM  Female               No   \n",
       "\n",
       "    Week End  No of Passengers  No. of Bikes  \n",
       "0        Yes                50            13  \n",
       "1        Yes                70            18  \n",
       "2        Yes                30             8  \n",
       "3        Yes                43            11  \n",
       "4        Yes                45            12  \n",
       "..       ...               ...           ...  \n",
       "403      Yes                34             9  \n",
       "404      Yes                72            18  \n",
       "405      Yes                56            14  \n",
       "406      Yes                31             8  \n",
       "407      Yes                34             9  \n",
       "\n",
       "[408 rows x 9 columns]"
      ]
     },
     "execution_count": 3,
     "metadata": {},
     "output_type": "execute_result"
    }
   ],
   "source": [
    "data"
   ]
  },
  {
   "cell_type": "code",
   "execution_count": 4,
   "metadata": {},
   "outputs": [],
   "source": [
    "data_new = data.drop(['sl.no','Date','Week End'],axis = 1)"
   ]
  },
  {
   "cell_type": "code",
   "execution_count": 5,
   "metadata": {},
   "outputs": [
    {
     "data": {
      "text/html": [
       "<div>\n",
       "<style scoped>\n",
       "    .dataframe tbody tr th:only-of-type {\n",
       "        vertical-align: middle;\n",
       "    }\n",
       "\n",
       "    .dataframe tbody tr th {\n",
       "        vertical-align: top;\n",
       "    }\n",
       "\n",
       "    .dataframe thead th {\n",
       "        text-align: right;\n",
       "    }\n",
       "</style>\n",
       "<table border=\"1\" class=\"dataframe\">\n",
       "  <thead>\n",
       "    <tr style=\"text-align: right;\">\n",
       "      <th></th>\n",
       "      <th>Station_Kengeri</th>\n",
       "      <th>Station_Mysore Road</th>\n",
       "      <th>Station_Nayadahalli</th>\n",
       "      <th>Station_Puttenegere</th>\n",
       "      <th>Station_Rajarajeshwari Nagar</th>\n",
       "      <th>Time_10.00 - 11.00 AM</th>\n",
       "      <th>Time_10.00 - 11.00 PM</th>\n",
       "      <th>Time_11.00 - 12.00 AM</th>\n",
       "      <th>Time_12.00 - 1.00 PM</th>\n",
       "      <th>Time_2.00 - 3.00 PM</th>\n",
       "      <th>...</th>\n",
       "      <th>Time_9.00 - 10.00 AM</th>\n",
       "      <th>Time_9.00 - 10.00 PM</th>\n",
       "      <th>Sex_Male</th>\n",
       "      <th>Age Group(14-50)_Yes</th>\n",
       "      <th>Station</th>\n",
       "      <th>Time</th>\n",
       "      <th>Sex</th>\n",
       "      <th>Age Group(14-50)</th>\n",
       "      <th>No of Passengers</th>\n",
       "      <th>No. of Bikes</th>\n",
       "    </tr>\n",
       "  </thead>\n",
       "  <tbody>\n",
       "    <tr>\n",
       "      <th>0</th>\n",
       "      <td>1</td>\n",
       "      <td>0</td>\n",
       "      <td>0</td>\n",
       "      <td>0</td>\n",
       "      <td>0</td>\n",
       "      <td>0</td>\n",
       "      <td>0</td>\n",
       "      <td>0</td>\n",
       "      <td>0</td>\n",
       "      <td>0</td>\n",
       "      <td>...</td>\n",
       "      <td>0</td>\n",
       "      <td>0</td>\n",
       "      <td>1</td>\n",
       "      <td>1</td>\n",
       "      <td>Kengeri</td>\n",
       "      <td>6.00 -7.00 AM</td>\n",
       "      <td>Male</td>\n",
       "      <td>Yes</td>\n",
       "      <td>50</td>\n",
       "      <td>13</td>\n",
       "    </tr>\n",
       "    <tr>\n",
       "      <th>1</th>\n",
       "      <td>1</td>\n",
       "      <td>0</td>\n",
       "      <td>0</td>\n",
       "      <td>0</td>\n",
       "      <td>0</td>\n",
       "      <td>0</td>\n",
       "      <td>0</td>\n",
       "      <td>0</td>\n",
       "      <td>0</td>\n",
       "      <td>0</td>\n",
       "      <td>...</td>\n",
       "      <td>0</td>\n",
       "      <td>0</td>\n",
       "      <td>0</td>\n",
       "      <td>1</td>\n",
       "      <td>Kengeri</td>\n",
       "      <td>6.00 -7.00 AM</td>\n",
       "      <td>Female</td>\n",
       "      <td>Yes</td>\n",
       "      <td>70</td>\n",
       "      <td>18</td>\n",
       "    </tr>\n",
       "    <tr>\n",
       "      <th>2</th>\n",
       "      <td>1</td>\n",
       "      <td>0</td>\n",
       "      <td>0</td>\n",
       "      <td>0</td>\n",
       "      <td>0</td>\n",
       "      <td>0</td>\n",
       "      <td>0</td>\n",
       "      <td>0</td>\n",
       "      <td>0</td>\n",
       "      <td>0</td>\n",
       "      <td>...</td>\n",
       "      <td>0</td>\n",
       "      <td>0</td>\n",
       "      <td>1</td>\n",
       "      <td>0</td>\n",
       "      <td>Kengeri</td>\n",
       "      <td>6.00 -7.00 AM</td>\n",
       "      <td>Male</td>\n",
       "      <td>No</td>\n",
       "      <td>30</td>\n",
       "      <td>8</td>\n",
       "    </tr>\n",
       "    <tr>\n",
       "      <th>3</th>\n",
       "      <td>1</td>\n",
       "      <td>0</td>\n",
       "      <td>0</td>\n",
       "      <td>0</td>\n",
       "      <td>0</td>\n",
       "      <td>0</td>\n",
       "      <td>0</td>\n",
       "      <td>0</td>\n",
       "      <td>0</td>\n",
       "      <td>0</td>\n",
       "      <td>...</td>\n",
       "      <td>0</td>\n",
       "      <td>0</td>\n",
       "      <td>0</td>\n",
       "      <td>0</td>\n",
       "      <td>Kengeri</td>\n",
       "      <td>6.00 -7.00 AM</td>\n",
       "      <td>Female</td>\n",
       "      <td>No</td>\n",
       "      <td>43</td>\n",
       "      <td>11</td>\n",
       "    </tr>\n",
       "    <tr>\n",
       "      <th>4</th>\n",
       "      <td>0</td>\n",
       "      <td>0</td>\n",
       "      <td>0</td>\n",
       "      <td>1</td>\n",
       "      <td>0</td>\n",
       "      <td>0</td>\n",
       "      <td>0</td>\n",
       "      <td>0</td>\n",
       "      <td>0</td>\n",
       "      <td>0</td>\n",
       "      <td>...</td>\n",
       "      <td>0</td>\n",
       "      <td>0</td>\n",
       "      <td>1</td>\n",
       "      <td>1</td>\n",
       "      <td>Puttenegere</td>\n",
       "      <td>6.00 -7.00 AM</td>\n",
       "      <td>Male</td>\n",
       "      <td>Yes</td>\n",
       "      <td>45</td>\n",
       "      <td>12</td>\n",
       "    </tr>\n",
       "  </tbody>\n",
       "</table>\n",
       "<p>5 rows × 29 columns</p>\n",
       "</div>"
      ],
      "text/plain": [
       "   Station_Kengeri  Station_Mysore Road  Station_Nayadahalli  \\\n",
       "0                1                    0                    0   \n",
       "1                1                    0                    0   \n",
       "2                1                    0                    0   \n",
       "3                1                    0                    0   \n",
       "4                0                    0                    0   \n",
       "\n",
       "   Station_Puttenegere  Station_Rajarajeshwari Nagar  Time_10.00 - 11.00 AM  \\\n",
       "0                    0                             0                      0   \n",
       "1                    0                             0                      0   \n",
       "2                    0                             0                      0   \n",
       "3                    0                             0                      0   \n",
       "4                    1                             0                      0   \n",
       "\n",
       "   Time_10.00 - 11.00 PM  Time_11.00 - 12.00 AM  Time_12.00 - 1.00 PM  \\\n",
       "0                      0                      0                     0   \n",
       "1                      0                      0                     0   \n",
       "2                      0                      0                     0   \n",
       "3                      0                      0                     0   \n",
       "4                      0                      0                     0   \n",
       "\n",
       "   Time_2.00 - 3.00 PM  ...  Time_9.00 - 10.00 AM  Time_9.00 - 10.00 PM  \\\n",
       "0                    0  ...                     0                     0   \n",
       "1                    0  ...                     0                     0   \n",
       "2                    0  ...                     0                     0   \n",
       "3                    0  ...                     0                     0   \n",
       "4                    0  ...                     0                     0   \n",
       "\n",
       "   Sex_Male  Age Group(14-50)_Yes      Station           Time     Sex  \\\n",
       "0         1                     1      Kengeri  6.00 -7.00 AM    Male   \n",
       "1         0                     1      Kengeri  6.00 -7.00 AM  Female   \n",
       "2         1                     0      Kengeri  6.00 -7.00 AM    Male   \n",
       "3         0                     0      Kengeri  6.00 -7.00 AM  Female   \n",
       "4         1                     1  Puttenegere  6.00 -7.00 AM    Male   \n",
       "\n",
       "   Age Group(14-50)  No of Passengers  No. of Bikes  \n",
       "0               Yes                50            13  \n",
       "1               Yes                70            18  \n",
       "2                No                30             8  \n",
       "3                No                43            11  \n",
       "4               Yes                45            12  \n",
       "\n",
       "[5 rows x 29 columns]"
      ]
     },
     "execution_count": 5,
     "metadata": {},
     "output_type": "execute_result"
    }
   ],
   "source": [
    "### creating dummy variables for season , mnth ,weathersit ,weekday\n",
    "dummy = data_new[['Station','Time','Sex','Age Group(14-50)']]\n",
    "\n",
    "dummy = pd.get_dummies(dummy,drop_first=True )\n",
    "\n",
    "## adding dummy variables to original dataset\n",
    "data_new = pd.concat([dummy,data_new],axis = 1)\n",
    "\n",
    "# Now let's see the head of our dataframe.\n",
    "data_new.head()"
   ]
  },
  {
   "cell_type": "code",
   "execution_count": 6,
   "metadata": {},
   "outputs": [],
   "source": [
    "data_new.drop(['Station','Time','Sex','Age Group(14-50)'],axis=1,inplace=True)"
   ]
  },
  {
   "cell_type": "code",
   "execution_count": 7,
   "metadata": {},
   "outputs": [],
   "source": [
    "#data_new.to_csv(\".\")"
   ]
  },
  {
   "cell_type": "code",
   "execution_count": 8,
   "metadata": {},
   "outputs": [],
   "source": [
    "x = data_new.drop(['No. of Bikes'],axis=1)"
   ]
  },
  {
   "cell_type": "code",
   "execution_count": 9,
   "metadata": {},
   "outputs": [],
   "source": [
    "y = data_new['No. of Bikes']"
   ]
  },
  {
   "cell_type": "code",
   "execution_count": 10,
   "metadata": {},
   "outputs": [
    {
     "data": {
      "text/html": [
       "<div>\n",
       "<style scoped>\n",
       "    .dataframe tbody tr th:only-of-type {\n",
       "        vertical-align: middle;\n",
       "    }\n",
       "\n",
       "    .dataframe tbody tr th {\n",
       "        vertical-align: top;\n",
       "    }\n",
       "\n",
       "    .dataframe thead th {\n",
       "        text-align: right;\n",
       "    }\n",
       "</style>\n",
       "<table border=\"1\" class=\"dataframe\">\n",
       "  <thead>\n",
       "    <tr style=\"text-align: right;\">\n",
       "      <th></th>\n",
       "      <th>Station_Kengeri</th>\n",
       "      <th>Station_Mysore Road</th>\n",
       "      <th>Station_Nayadahalli</th>\n",
       "      <th>Station_Puttenegere</th>\n",
       "      <th>Station_Rajarajeshwari Nagar</th>\n",
       "      <th>Time_10.00 - 11.00 AM</th>\n",
       "      <th>Time_10.00 - 11.00 PM</th>\n",
       "      <th>Time_11.00 - 12.00 AM</th>\n",
       "      <th>Time_12.00 - 1.00 PM</th>\n",
       "      <th>Time_2.00 - 3.00 PM</th>\n",
       "      <th>...</th>\n",
       "      <th>Time_6.00 -7.00 AM</th>\n",
       "      <th>Time_7.00 - 8.00 AM</th>\n",
       "      <th>Time_7.00 - 8.00 PM</th>\n",
       "      <th>Time_8.00 - 9.00 AM</th>\n",
       "      <th>Time_8.00 - 9.00 PM</th>\n",
       "      <th>Time_9.00 - 10.00 AM</th>\n",
       "      <th>Time_9.00 - 10.00 PM</th>\n",
       "      <th>Sex_Male</th>\n",
       "      <th>Age Group(14-50)_Yes</th>\n",
       "      <th>No of Passengers</th>\n",
       "    </tr>\n",
       "  </thead>\n",
       "  <tbody>\n",
       "    <tr>\n",
       "      <th>0</th>\n",
       "      <td>1</td>\n",
       "      <td>0</td>\n",
       "      <td>0</td>\n",
       "      <td>0</td>\n",
       "      <td>0</td>\n",
       "      <td>0</td>\n",
       "      <td>0</td>\n",
       "      <td>0</td>\n",
       "      <td>0</td>\n",
       "      <td>0</td>\n",
       "      <td>...</td>\n",
       "      <td>1</td>\n",
       "      <td>0</td>\n",
       "      <td>0</td>\n",
       "      <td>0</td>\n",
       "      <td>0</td>\n",
       "      <td>0</td>\n",
       "      <td>0</td>\n",
       "      <td>1</td>\n",
       "      <td>1</td>\n",
       "      <td>50</td>\n",
       "    </tr>\n",
       "    <tr>\n",
       "      <th>1</th>\n",
       "      <td>1</td>\n",
       "      <td>0</td>\n",
       "      <td>0</td>\n",
       "      <td>0</td>\n",
       "      <td>0</td>\n",
       "      <td>0</td>\n",
       "      <td>0</td>\n",
       "      <td>0</td>\n",
       "      <td>0</td>\n",
       "      <td>0</td>\n",
       "      <td>...</td>\n",
       "      <td>1</td>\n",
       "      <td>0</td>\n",
       "      <td>0</td>\n",
       "      <td>0</td>\n",
       "      <td>0</td>\n",
       "      <td>0</td>\n",
       "      <td>0</td>\n",
       "      <td>0</td>\n",
       "      <td>1</td>\n",
       "      <td>70</td>\n",
       "    </tr>\n",
       "    <tr>\n",
       "      <th>2</th>\n",
       "      <td>1</td>\n",
       "      <td>0</td>\n",
       "      <td>0</td>\n",
       "      <td>0</td>\n",
       "      <td>0</td>\n",
       "      <td>0</td>\n",
       "      <td>0</td>\n",
       "      <td>0</td>\n",
       "      <td>0</td>\n",
       "      <td>0</td>\n",
       "      <td>...</td>\n",
       "      <td>1</td>\n",
       "      <td>0</td>\n",
       "      <td>0</td>\n",
       "      <td>0</td>\n",
       "      <td>0</td>\n",
       "      <td>0</td>\n",
       "      <td>0</td>\n",
       "      <td>1</td>\n",
       "      <td>0</td>\n",
       "      <td>30</td>\n",
       "    </tr>\n",
       "    <tr>\n",
       "      <th>3</th>\n",
       "      <td>1</td>\n",
       "      <td>0</td>\n",
       "      <td>0</td>\n",
       "      <td>0</td>\n",
       "      <td>0</td>\n",
       "      <td>0</td>\n",
       "      <td>0</td>\n",
       "      <td>0</td>\n",
       "      <td>0</td>\n",
       "      <td>0</td>\n",
       "      <td>...</td>\n",
       "      <td>1</td>\n",
       "      <td>0</td>\n",
       "      <td>0</td>\n",
       "      <td>0</td>\n",
       "      <td>0</td>\n",
       "      <td>0</td>\n",
       "      <td>0</td>\n",
       "      <td>0</td>\n",
       "      <td>0</td>\n",
       "      <td>43</td>\n",
       "    </tr>\n",
       "    <tr>\n",
       "      <th>4</th>\n",
       "      <td>0</td>\n",
       "      <td>0</td>\n",
       "      <td>0</td>\n",
       "      <td>1</td>\n",
       "      <td>0</td>\n",
       "      <td>0</td>\n",
       "      <td>0</td>\n",
       "      <td>0</td>\n",
       "      <td>0</td>\n",
       "      <td>0</td>\n",
       "      <td>...</td>\n",
       "      <td>1</td>\n",
       "      <td>0</td>\n",
       "      <td>0</td>\n",
       "      <td>0</td>\n",
       "      <td>0</td>\n",
       "      <td>0</td>\n",
       "      <td>0</td>\n",
       "      <td>1</td>\n",
       "      <td>1</td>\n",
       "      <td>45</td>\n",
       "    </tr>\n",
       "    <tr>\n",
       "      <th>...</th>\n",
       "      <td>...</td>\n",
       "      <td>...</td>\n",
       "      <td>...</td>\n",
       "      <td>...</td>\n",
       "      <td>...</td>\n",
       "      <td>...</td>\n",
       "      <td>...</td>\n",
       "      <td>...</td>\n",
       "      <td>...</td>\n",
       "      <td>...</td>\n",
       "      <td>...</td>\n",
       "      <td>...</td>\n",
       "      <td>...</td>\n",
       "      <td>...</td>\n",
       "      <td>...</td>\n",
       "      <td>...</td>\n",
       "      <td>...</td>\n",
       "      <td>...</td>\n",
       "      <td>...</td>\n",
       "      <td>...</td>\n",
       "      <td>...</td>\n",
       "    </tr>\n",
       "    <tr>\n",
       "      <th>403</th>\n",
       "      <td>0</td>\n",
       "      <td>0</td>\n",
       "      <td>1</td>\n",
       "      <td>0</td>\n",
       "      <td>0</td>\n",
       "      <td>0</td>\n",
       "      <td>1</td>\n",
       "      <td>0</td>\n",
       "      <td>0</td>\n",
       "      <td>0</td>\n",
       "      <td>...</td>\n",
       "      <td>0</td>\n",
       "      <td>0</td>\n",
       "      <td>0</td>\n",
       "      <td>0</td>\n",
       "      <td>0</td>\n",
       "      <td>0</td>\n",
       "      <td>0</td>\n",
       "      <td>0</td>\n",
       "      <td>0</td>\n",
       "      <td>34</td>\n",
       "    </tr>\n",
       "    <tr>\n",
       "      <th>404</th>\n",
       "      <td>0</td>\n",
       "      <td>1</td>\n",
       "      <td>0</td>\n",
       "      <td>0</td>\n",
       "      <td>0</td>\n",
       "      <td>0</td>\n",
       "      <td>1</td>\n",
       "      <td>0</td>\n",
       "      <td>0</td>\n",
       "      <td>0</td>\n",
       "      <td>...</td>\n",
       "      <td>0</td>\n",
       "      <td>0</td>\n",
       "      <td>0</td>\n",
       "      <td>0</td>\n",
       "      <td>0</td>\n",
       "      <td>0</td>\n",
       "      <td>0</td>\n",
       "      <td>1</td>\n",
       "      <td>1</td>\n",
       "      <td>72</td>\n",
       "    </tr>\n",
       "    <tr>\n",
       "      <th>405</th>\n",
       "      <td>0</td>\n",
       "      <td>1</td>\n",
       "      <td>0</td>\n",
       "      <td>0</td>\n",
       "      <td>0</td>\n",
       "      <td>0</td>\n",
       "      <td>1</td>\n",
       "      <td>0</td>\n",
       "      <td>0</td>\n",
       "      <td>0</td>\n",
       "      <td>...</td>\n",
       "      <td>0</td>\n",
       "      <td>0</td>\n",
       "      <td>0</td>\n",
       "      <td>0</td>\n",
       "      <td>0</td>\n",
       "      <td>0</td>\n",
       "      <td>0</td>\n",
       "      <td>0</td>\n",
       "      <td>1</td>\n",
       "      <td>56</td>\n",
       "    </tr>\n",
       "    <tr>\n",
       "      <th>406</th>\n",
       "      <td>0</td>\n",
       "      <td>1</td>\n",
       "      <td>0</td>\n",
       "      <td>0</td>\n",
       "      <td>0</td>\n",
       "      <td>0</td>\n",
       "      <td>1</td>\n",
       "      <td>0</td>\n",
       "      <td>0</td>\n",
       "      <td>0</td>\n",
       "      <td>...</td>\n",
       "      <td>0</td>\n",
       "      <td>0</td>\n",
       "      <td>0</td>\n",
       "      <td>0</td>\n",
       "      <td>0</td>\n",
       "      <td>0</td>\n",
       "      <td>0</td>\n",
       "      <td>1</td>\n",
       "      <td>0</td>\n",
       "      <td>31</td>\n",
       "    </tr>\n",
       "    <tr>\n",
       "      <th>407</th>\n",
       "      <td>0</td>\n",
       "      <td>1</td>\n",
       "      <td>0</td>\n",
       "      <td>0</td>\n",
       "      <td>0</td>\n",
       "      <td>0</td>\n",
       "      <td>1</td>\n",
       "      <td>0</td>\n",
       "      <td>0</td>\n",
       "      <td>0</td>\n",
       "      <td>...</td>\n",
       "      <td>0</td>\n",
       "      <td>0</td>\n",
       "      <td>0</td>\n",
       "      <td>0</td>\n",
       "      <td>0</td>\n",
       "      <td>0</td>\n",
       "      <td>0</td>\n",
       "      <td>0</td>\n",
       "      <td>0</td>\n",
       "      <td>34</td>\n",
       "    </tr>\n",
       "  </tbody>\n",
       "</table>\n",
       "<p>408 rows × 24 columns</p>\n",
       "</div>"
      ],
      "text/plain": [
       "     Station_Kengeri  Station_Mysore Road  Station_Nayadahalli  \\\n",
       "0                  1                    0                    0   \n",
       "1                  1                    0                    0   \n",
       "2                  1                    0                    0   \n",
       "3                  1                    0                    0   \n",
       "4                  0                    0                    0   \n",
       "..               ...                  ...                  ...   \n",
       "403                0                    0                    1   \n",
       "404                0                    1                    0   \n",
       "405                0                    1                    0   \n",
       "406                0                    1                    0   \n",
       "407                0                    1                    0   \n",
       "\n",
       "     Station_Puttenegere  Station_Rajarajeshwari Nagar  Time_10.00 - 11.00 AM  \\\n",
       "0                      0                             0                      0   \n",
       "1                      0                             0                      0   \n",
       "2                      0                             0                      0   \n",
       "3                      0                             0                      0   \n",
       "4                      1                             0                      0   \n",
       "..                   ...                           ...                    ...   \n",
       "403                    0                             0                      0   \n",
       "404                    0                             0                      0   \n",
       "405                    0                             0                      0   \n",
       "406                    0                             0                      0   \n",
       "407                    0                             0                      0   \n",
       "\n",
       "     Time_10.00 - 11.00 PM  Time_11.00 - 12.00 AM  Time_12.00 - 1.00 PM  \\\n",
       "0                        0                      0                     0   \n",
       "1                        0                      0                     0   \n",
       "2                        0                      0                     0   \n",
       "3                        0                      0                     0   \n",
       "4                        0                      0                     0   \n",
       "..                     ...                    ...                   ...   \n",
       "403                      1                      0                     0   \n",
       "404                      1                      0                     0   \n",
       "405                      1                      0                     0   \n",
       "406                      1                      0                     0   \n",
       "407                      1                      0                     0   \n",
       "\n",
       "     Time_2.00 - 3.00 PM  ...  Time_6.00 -7.00 AM  Time_7.00 - 8.00 AM  \\\n",
       "0                      0  ...                   1                    0   \n",
       "1                      0  ...                   1                    0   \n",
       "2                      0  ...                   1                    0   \n",
       "3                      0  ...                   1                    0   \n",
       "4                      0  ...                   1                    0   \n",
       "..                   ...  ...                 ...                  ...   \n",
       "403                    0  ...                   0                    0   \n",
       "404                    0  ...                   0                    0   \n",
       "405                    0  ...                   0                    0   \n",
       "406                    0  ...                   0                    0   \n",
       "407                    0  ...                   0                    0   \n",
       "\n",
       "     Time_7.00 - 8.00 PM  Time_8.00 - 9.00 AM  Time_8.00 - 9.00 PM  \\\n",
       "0                      0                    0                    0   \n",
       "1                      0                    0                    0   \n",
       "2                      0                    0                    0   \n",
       "3                      0                    0                    0   \n",
       "4                      0                    0                    0   \n",
       "..                   ...                  ...                  ...   \n",
       "403                    0                    0                    0   \n",
       "404                    0                    0                    0   \n",
       "405                    0                    0                    0   \n",
       "406                    0                    0                    0   \n",
       "407                    0                    0                    0   \n",
       "\n",
       "     Time_9.00 - 10.00 AM  Time_9.00 - 10.00 PM  Sex_Male  \\\n",
       "0                       0                     0         1   \n",
       "1                       0                     0         0   \n",
       "2                       0                     0         1   \n",
       "3                       0                     0         0   \n",
       "4                       0                     0         1   \n",
       "..                    ...                   ...       ...   \n",
       "403                     0                     0         0   \n",
       "404                     0                     0         1   \n",
       "405                     0                     0         0   \n",
       "406                     0                     0         1   \n",
       "407                     0                     0         0   \n",
       "\n",
       "     Age Group(14-50)_Yes  No of Passengers  \n",
       "0                       1                50  \n",
       "1                       1                70  \n",
       "2                       0                30  \n",
       "3                       0                43  \n",
       "4                       1                45  \n",
       "..                    ...               ...  \n",
       "403                     0                34  \n",
       "404                     1                72  \n",
       "405                     1                56  \n",
       "406                     0                31  \n",
       "407                     0                34  \n",
       "\n",
       "[408 rows x 24 columns]"
      ]
     },
     "execution_count": 10,
     "metadata": {},
     "output_type": "execute_result"
    }
   ],
   "source": [
    "x"
   ]
  },
  {
   "cell_type": "code",
   "execution_count": 11,
   "metadata": {},
   "outputs": [
    {
     "data": {
      "text/plain": [
       "0      13\n",
       "1      18\n",
       "2       8\n",
       "3      11\n",
       "4      12\n",
       "       ..\n",
       "403     9\n",
       "404    18\n",
       "405    14\n",
       "406     8\n",
       "407     9\n",
       "Name: No. of Bikes, Length: 408, dtype: int64"
      ]
     },
     "execution_count": 11,
     "metadata": {},
     "output_type": "execute_result"
    }
   ],
   "source": [
    "y"
   ]
  },
  {
   "cell_type": "code",
   "execution_count": 12,
   "metadata": {},
   "outputs": [],
   "source": [
    "x_train,x_test,y_train,y_test = train_test_split(x,y,test_size = .20, random_state = 100) # test_size change to 0.25 %"
   ]
  },
  {
   "cell_type": "code",
   "execution_count": 13,
   "metadata": {},
   "outputs": [],
   "source": [
    "from sklearn.ensemble import RandomForestClassifier"
   ]
  },
  {
   "cell_type": "code",
   "execution_count": 14,
   "metadata": {},
   "outputs": [],
   "source": [
    "rf = RandomForestClassifier(n_estimators=5)"
   ]
  },
  {
   "cell_type": "code",
   "execution_count": 15,
   "metadata": {},
   "outputs": [
    {
     "data": {
      "text/plain": [
       "RandomForestClassifier(n_estimators=5)"
      ]
     },
     "execution_count": 15,
     "metadata": {},
     "output_type": "execute_result"
    }
   ],
   "source": [
    "rf.fit(x_train,y_train)"
   ]
  },
  {
   "cell_type": "code",
   "execution_count": 16,
   "metadata": {},
   "outputs": [
    {
     "data": {
      "text/plain": [
       "0.6219512195121951"
      ]
     },
     "execution_count": 16,
     "metadata": {},
     "output_type": "execute_result"
    }
   ],
   "source": [
    "rf.score(x_test,y_test)"
   ]
  },
  {
   "cell_type": "code",
   "execution_count": 17,
   "metadata": {},
   "outputs": [],
   "source": [
    "grid_param = {\n",
    "    \"n_estimators\":[5,10,100,120,150],\n",
    "    \"criterion\":['gini','entropy'],\n",
    "    \"max_depth\": range(10),\n",
    "    \"min_samples_leaf\": range(10),\n",
    "    \n",
    "}"
   ]
  },
  {
   "cell_type": "code",
   "execution_count": 18,
   "metadata": {},
   "outputs": [],
   "source": [
    "grid_search_rf = GridSearchCV(param_grid=grid_param, cv = 10,n_jobs=6, verbose=1,estimator = rf)"
   ]
  },
  {
   "cell_type": "code",
   "execution_count": 19,
   "metadata": {},
   "outputs": [
    {
     "name": "stdout",
     "output_type": "stream",
     "text": [
      "Fitting 10 folds for each of 1000 candidates, totalling 10000 fits\n"
     ]
    },
    {
     "name": "stderr",
     "output_type": "stream",
     "text": [
      "C:\\Users\\DELL\\anaconda3\\lib\\site-packages\\sklearn\\model_selection\\_split.py:670: UserWarning: The least populated class in y has only 1 members, which is less than n_splits=10.\n",
      "  warnings.warn((\"The least populated class in y has only %d\"\n",
      "[Parallel(n_jobs=6)]: Using backend LokyBackend with 6 concurrent workers.\n",
      "[Parallel(n_jobs=6)]: Done  38 tasks      | elapsed:    2.6s\n",
      "[Parallel(n_jobs=6)]: Done 826 tasks      | elapsed:   14.1s\n",
      "[Parallel(n_jobs=6)]: Done 1326 tasks      | elapsed:   27.3s\n",
      "[Parallel(n_jobs=6)]: Done 2026 tasks      | elapsed:   47.8s\n",
      "[Parallel(n_jobs=6)]: Done 2926 tasks      | elapsed:  1.2min\n",
      "[Parallel(n_jobs=6)]: Done 4026 tasks      | elapsed:  1.8min\n",
      "[Parallel(n_jobs=6)]: Done 5558 tasks      | elapsed:  2.4min\n",
      "[Parallel(n_jobs=6)]: Done 8558 tasks      | elapsed:  3.9min\n",
      "[Parallel(n_jobs=6)]: Done 10000 out of 10000 | elapsed:  4.7min finished\n"
     ]
    },
    {
     "data": {
      "text/plain": [
       "GridSearchCV(cv=10, estimator=RandomForestClassifier(n_estimators=5), n_jobs=6,\n",
       "             param_grid={'criterion': ['gini', 'entropy'],\n",
       "                         'max_depth': range(0, 10),\n",
       "                         'min_samples_leaf': range(0, 10),\n",
       "                         'n_estimators': [5, 10, 100, 120, 150]},\n",
       "             verbose=1)"
      ]
     },
     "execution_count": 19,
     "metadata": {},
     "output_type": "execute_result"
    }
   ],
   "source": [
    "grid_search_rf.fit(x_train,y_train)"
   ]
  },
  {
   "cell_type": "code",
   "execution_count": 20,
   "metadata": {},
   "outputs": [
    {
     "data": {
      "text/plain": [
       "{'criterion': 'gini',\n",
       " 'max_depth': 9,\n",
       " 'min_samples_leaf': 1,\n",
       " 'n_estimators': 150}"
      ]
     },
     "execution_count": 20,
     "metadata": {},
     "output_type": "execute_result"
    }
   ],
   "source": [
    "grid_search_rf.best_params_"
   ]
  },
  {
   "cell_type": "code",
   "execution_count": 21,
   "metadata": {},
   "outputs": [],
   "source": [
    "rf_new = RandomForestClassifier(criterion='gini', max_depth=9,min_samples_leaf=1, n_estimators=150)"
   ]
  },
  {
   "cell_type": "code",
   "execution_count": 22,
   "metadata": {},
   "outputs": [
    {
     "data": {
      "text/plain": [
       "RandomForestClassifier(max_depth=9, n_estimators=150)"
      ]
     },
     "execution_count": 22,
     "metadata": {},
     "output_type": "execute_result"
    }
   ],
   "source": [
    "rf_new.fit(x_train,y_train)"
   ]
  },
  {
   "cell_type": "code",
   "execution_count": 23,
   "metadata": {},
   "outputs": [
    {
     "data": {
      "text/plain": [
       "0.6951219512195121"
      ]
     },
     "execution_count": 23,
     "metadata": {},
     "output_type": "execute_result"
    }
   ],
   "source": [
    "rf_new.score(x_test,y_test)"
   ]
  },
  {
   "cell_type": "code",
   "execution_count": 25,
   "metadata": {},
   "outputs": [],
   "source": [
    "from sklearn.neighbors import KNeighborsClassifier"
   ]
  },
  {
   "cell_type": "code",
   "execution_count": 26,
   "metadata": {},
   "outputs": [],
   "source": [
    "knn = KNeighborsClassifier()"
   ]
  },
  {
   "cell_type": "code",
   "execution_count": 27,
   "metadata": {},
   "outputs": [
    {
     "data": {
      "text/plain": [
       "KNeighborsClassifier()"
      ]
     },
     "execution_count": 27,
     "metadata": {},
     "output_type": "execute_result"
    }
   ],
   "source": [
    "knn.fit(x_train,y_train)"
   ]
  },
  {
   "cell_type": "code",
   "execution_count": 28,
   "metadata": {},
   "outputs": [
    {
     "data": {
      "text/plain": [
       "0.9512195121951219"
      ]
     },
     "execution_count": 28,
     "metadata": {},
     "output_type": "execute_result"
    }
   ],
   "source": [
    "knn.score(x_test,y_test)"
   ]
  },
  {
   "cell_type": "code",
   "execution_count": 29,
   "metadata": {},
   "outputs": [],
   "source": [
    "param = {\n",
    "    'n_neighbors': [3,5,7,9,12,13,15,17,21],\n",
    "    'algorithm': ['auto', 'ball_tree', 'kd_tree', 'brute'],\n",
    "    'leaf_size': [5,10,15,20,25,30,35,40,45],\n",
    "    'p': [1,2],\n",
    "    'weights':['uniform', 'distance']\n",
    "    \n",
    "}"
   ]
  },
  {
   "cell_type": "code",
   "execution_count": 30,
   "metadata": {},
   "outputs": [],
   "source": [
    "grid_cv = GridSearchCV(knn,param_grid=param)"
   ]
  },
  {
   "cell_type": "code",
   "execution_count": 31,
   "metadata": {},
   "outputs": [
    {
     "name": "stderr",
     "output_type": "stream",
     "text": [
      "C:\\Users\\DELL\\anaconda3\\lib\\site-packages\\sklearn\\model_selection\\_split.py:670: UserWarning: The least populated class in y has only 1 members, which is less than n_splits=5.\n",
      "  warnings.warn((\"The least populated class in y has only %d\"\n"
     ]
    },
    {
     "data": {
      "text/plain": [
       "GridSearchCV(estimator=KNeighborsClassifier(),\n",
       "             param_grid={'algorithm': ['auto', 'ball_tree', 'kd_tree', 'brute'],\n",
       "                         'leaf_size': [5, 10, 15, 20, 25, 30, 35, 40, 45],\n",
       "                         'n_neighbors': [3, 5, 7, 9, 12, 13, 15, 17, 21],\n",
       "                         'p': [1, 2], 'weights': ['uniform', 'distance']})"
      ]
     },
     "execution_count": 31,
     "metadata": {},
     "output_type": "execute_result"
    }
   ],
   "source": [
    "grid_cv.fit(x_train,y_train)"
   ]
  },
  {
   "cell_type": "code",
   "execution_count": 32,
   "metadata": {},
   "outputs": [
    {
     "data": {
      "text/plain": [
       "{'algorithm': 'auto',\n",
       " 'leaf_size': 10,\n",
       " 'n_neighbors': 5,\n",
       " 'p': 1,\n",
       " 'weights': 'distance'}"
      ]
     },
     "execution_count": 32,
     "metadata": {},
     "output_type": "execute_result"
    }
   ],
   "source": [
    "grid_cv.best_params_"
   ]
  },
  {
   "cell_type": "code",
   "execution_count": 33,
   "metadata": {},
   "outputs": [],
   "source": [
    "knn = KNeighborsClassifier(n_neighbors=5, p= 1,weights= 'distance',leaf_size= 10,algorithm='auto')"
   ]
  },
  {
   "cell_type": "code",
   "execution_count": 34,
   "metadata": {},
   "outputs": [
    {
     "data": {
      "text/plain": [
       "KNeighborsClassifier(leaf_size=10, p=1, weights='distance')"
      ]
     },
     "execution_count": 34,
     "metadata": {},
     "output_type": "execute_result"
    }
   ],
   "source": [
    "knn.fit(x_train,y_train)"
   ]
  },
  {
   "cell_type": "code",
   "execution_count": 35,
   "metadata": {},
   "outputs": [
    {
     "data": {
      "text/plain": [
       "0.9634146341463414"
      ]
     },
     "execution_count": 35,
     "metadata": {},
     "output_type": "execute_result"
    }
   ],
   "source": [
    "knn.score(x_test,y_test)"
   ]
  },
  {
   "cell_type": "code",
   "execution_count": 36,
   "metadata": {},
   "outputs": [
    {
     "data": {
      "text/plain": [
       "array([16, 11, 10, 26, 25, 25, 13,  8, 12, 19, 22, 11, 11, 24, 26, 23, 19,\n",
       "       16, 18, 13, 18,  8, 25, 15, 14, 12, 12,  8, 28, 24,  8, 18, 24, 14,\n",
       "        2, 23,  8, 22, 22, 12,  9,  8, 16, 19, 23, 18, 25,  9, 23, 12, 27,\n",
       "        8, 27, 17, 13, 28, 18, 12, 27, 11, 15, 24, 28,  8, 23, 24, 28, 25,\n",
       "        9,  8, 11, 24, 26,  9, 27, 32, 17, 27, 10, 31, 14, 12],\n",
       "      dtype=int64)"
      ]
     },
     "execution_count": 36,
     "metadata": {},
     "output_type": "execute_result"
    }
   ],
   "source": [
    "knn.predict(x_test)"
   ]
  },
  {
   "cell_type": "code",
   "execution_count": 15,
   "metadata": {},
   "outputs": [],
   "source": [
    "from sklearn.svm import SVR"
   ]
  },
  {
   "cell_type": "code",
   "execution_count": 16,
   "metadata": {},
   "outputs": [
    {
     "data": {
      "text/plain": [
       "0.9885049321972266"
      ]
     },
     "execution_count": 16,
     "metadata": {},
     "output_type": "execute_result"
    }
   ],
   "source": [
    "svr = SVR()\n",
    "svr.fit(x_train,y_train)\n",
    "svr.score(x_test,y_test)"
   ]
  },
  {
   "cell_type": "code",
   "execution_count": 17,
   "metadata": {},
   "outputs": [],
   "source": [
    "# No multi-level classificatio, so no sigmoid function is required.\n",
    "\n",
    "param = {'C': [1.0,2.0,3.0],\n",
    " 'degree': range(3),\n",
    " 'gamma': ['scale', 'auto'],\n",
    " 'kernel': ['linear', 'poly'],\n",
    "}"
   ]
  },
  {
   "cell_type": "code",
   "execution_count": 18,
   "metadata": {},
   "outputs": [],
   "source": [
    "grid_cv_svr = GridSearchCV(svr,param_grid=param, n_jobs=3, verbose=5)"
   ]
  },
  {
   "cell_type": "code",
   "execution_count": 19,
   "metadata": {},
   "outputs": [
    {
     "data": {
      "text/plain": [
       "{'C': 1.0,\n",
       " 'cache_size': 200,\n",
       " 'coef0': 0.0,\n",
       " 'degree': 3,\n",
       " 'epsilon': 0.1,\n",
       " 'gamma': 'scale',\n",
       " 'kernel': 'rbf',\n",
       " 'max_iter': -1,\n",
       " 'shrinking': True,\n",
       " 'tol': 0.001,\n",
       " 'verbose': False}"
      ]
     },
     "execution_count": 19,
     "metadata": {},
     "output_type": "execute_result"
    }
   ],
   "source": [
    "svr.get_params()"
   ]
  },
  {
   "cell_type": "code",
   "execution_count": null,
   "metadata": {},
   "outputs": [],
   "source": []
  },
  {
   "cell_type": "code",
   "execution_count": 19,
   "metadata": {
    "scrolled": true
   },
   "outputs": [
    {
     "name": "stdout",
     "output_type": "stream",
     "text": [
      "Fitting 5 folds for each of 36 candidates, totalling 180 fits\n"
     ]
    },
    {
     "name": "stderr",
     "output_type": "stream",
     "text": [
      "[Parallel(n_jobs=3)]: Using backend LokyBackend with 3 concurrent workers.\n",
      "[Parallel(n_jobs=3)]: Done  12 tasks      | elapsed:    2.3s\n",
      "[Parallel(n_jobs=3)]: Done  66 tasks      | elapsed:   14.2s\n",
      "[Parallel(n_jobs=3)]: Done 156 tasks      | elapsed:   55.3s\n",
      "[Parallel(n_jobs=3)]: Done 180 out of 180 | elapsed:  1.7min finished\n"
     ]
    },
    {
     "data": {
      "text/plain": [
       "GridSearchCV(estimator=SVR(), n_jobs=3,\n",
       "             param_grid={'C': [1.0, 2.0, 3.0], 'degree': range(0, 3),\n",
       "                         'gamma': ['scale', 'auto'],\n",
       "                         'kernel': ['linear', 'poly']},\n",
       "             verbose=5)"
      ]
     },
     "execution_count": 19,
     "metadata": {},
     "output_type": "execute_result"
    }
   ],
   "source": [
    "grid_cv_svr.fit(x_train,y_train)"
   ]
  },
  {
   "cell_type": "code",
   "execution_count": 20,
   "metadata": {},
   "outputs": [
    {
     "data": {
      "text/plain": [
       "{'C': 3.0, 'degree': 1, 'gamma': 'scale', 'kernel': 'poly'}"
      ]
     },
     "execution_count": 20,
     "metadata": {},
     "output_type": "execute_result"
    }
   ],
   "source": [
    "grid_cv_svr.best_params_"
   ]
  },
  {
   "cell_type": "code",
   "execution_count": 23,
   "metadata": {},
   "outputs": [],
   "source": [
    "svr_opt = SVR(C=3.0,degree=1,gamma='scale',kernel='poly')"
   ]
  },
  {
   "cell_type": "code",
   "execution_count": 24,
   "metadata": {},
   "outputs": [
    {
     "data": {
      "text/plain": [
       "SVR(C=3.0, degree=1, kernel='poly')"
      ]
     },
     "execution_count": 24,
     "metadata": {},
     "output_type": "execute_result"
    }
   ],
   "source": [
    "svr_opt.fit(x_train,y_train)"
   ]
  },
  {
   "cell_type": "code",
   "execution_count": 25,
   "metadata": {},
   "outputs": [
    {
     "data": {
      "text/plain": [
       "0.9986681729381911"
      ]
     },
     "execution_count": 25,
     "metadata": {},
     "output_type": "execute_result"
    }
   ],
   "source": [
    "svr_opt.score(x_test,y_test)"
   ]
  },
  {
   "cell_type": "code",
   "execution_count": 26,
   "metadata": {},
   "outputs": [
    {
     "data": {
      "text/plain": [
       "array([15.89174257, 10.66144164, 10.40684523, 25.85078683, 24.61405031,\n",
       "       24.86746213, 13.15446031,  7.90849594, 11.65483529, 19.12656624,\n",
       "       22.36852055, 10.65668016, 11.40440807, 23.8649434 , 25.85670975,\n",
       "       22.86875955, 18.8773236 , 15.89292715, 18.38083276, 13.14614508,\n",
       "       17.88511453,  8.41648103, 24.87220046, 14.89619732, 13.90514968,\n",
       "       11.65305842, 11.65189699,  8.4081658 , 28.34832627, 23.86456867,\n",
       "        8.1609176 , 17.88829355, 23.86077421, 14.14607709,  2.93255071,\n",
       "       22.62169167,  8.40522749, 22.36814582, 22.3684974 , 11.64952782,\n",
       "        8.91674318,  7.66221476, 15.63953848, 18.87910048, 22.86937499,\n",
       "       17.89127816, 24.62118095,  9.1636398 , 22.868829  , 11.66435826,\n",
       "       27.11123816,  8.16153304, 27.11301504, 16.62883239, 13.39778003,\n",
       "       28.10643184, 17.88094534, 11.65246613, 27.10413067, 10.66381081,\n",
       "       15.38555751, 24.11122458, 28.10882416,  8.40638893, 22.62487069,\n",
       "       23.86513781, 28.10820871, 24.86568526,  8.89833585,  8.40878124,\n",
       "       10.66084935, 23.61648746, 26.60621453,  9.16181663, 27.11656879,\n",
       "       33.84197396, 16.63416301, 27.11419962,  9.91171929, 30.59468903,\n",
       "       14.14230578, 11.65900448])"
      ]
     },
     "execution_count": 26,
     "metadata": {},
     "output_type": "execute_result"
    }
   ],
   "source": [
    "svr_opt.predict(x_test)"
   ]
  },
  {
   "cell_type": "code",
   "execution_count": 27,
   "metadata": {},
   "outputs": [],
   "source": [
    "param_1 = {'C': [1.0,2.0,3.0],\n",
    " 'degree': range(3),\n",
    " 'gamma': ['scale', 'auto'],\n",
    " 'kernel': ['linear', 'poly','rbf'],\n",
    "}"
   ]
  },
  {
   "cell_type": "code",
   "execution_count": 28,
   "metadata": {},
   "outputs": [],
   "source": [
    "grid_cv_svr_1 = GridSearchCV(svr,param_grid=param, n_jobs=3, verbose=5)"
   ]
  },
  {
   "cell_type": "code",
   "execution_count": 29,
   "metadata": {},
   "outputs": [
    {
     "name": "stdout",
     "output_type": "stream",
     "text": [
      "Fitting 5 folds for each of 36 candidates, totalling 180 fits\n"
     ]
    },
    {
     "name": "stderr",
     "output_type": "stream",
     "text": [
      "[Parallel(n_jobs=3)]: Using backend LokyBackend with 3 concurrent workers.\n",
      "[Parallel(n_jobs=3)]: Done  12 tasks      | elapsed:    2.3s\n",
      "[Parallel(n_jobs=3)]: Done  66 tasks      | elapsed:   14.7s\n",
      "[Parallel(n_jobs=3)]: Done 156 tasks      | elapsed:   53.6s\n",
      "[Parallel(n_jobs=3)]: Done 180 out of 180 | elapsed:  1.7min finished\n"
     ]
    },
    {
     "data": {
      "text/plain": [
       "GridSearchCV(estimator=SVR(), n_jobs=3,\n",
       "             param_grid={'C': [1.0, 2.0, 3.0], 'degree': range(0, 3),\n",
       "                         'gamma': ['scale', 'auto'],\n",
       "                         'kernel': ['linear', 'poly']},\n",
       "             verbose=5)"
      ]
     },
     "execution_count": 29,
     "metadata": {},
     "output_type": "execute_result"
    }
   ],
   "source": [
    "grid_cv_svr_1.fit(x_train,y_train)"
   ]
  },
  {
   "cell_type": "code",
   "execution_count": 30,
   "metadata": {},
   "outputs": [
    {
     "data": {
      "text/plain": [
       "{'C': 3.0, 'degree': 1, 'gamma': 'scale', 'kernel': 'poly'}"
      ]
     },
     "execution_count": 30,
     "metadata": {},
     "output_type": "execute_result"
    }
   ],
   "source": [
    "grid_cv_svr_1.best_params_"
   ]
  }
 ],
 "metadata": {
  "kernelspec": {
   "display_name": "Python 3",
   "language": "python",
   "name": "python3"
  },
  "language_info": {
   "codemirror_mode": {
    "name": "ipython",
    "version": 3
   },
   "file_extension": ".py",
   "mimetype": "text/x-python",
   "name": "python",
   "nbconvert_exporter": "python",
   "pygments_lexer": "ipython3",
   "version": "3.8.5"
  }
 },
 "nbformat": 4,
 "nbformat_minor": 4
}
